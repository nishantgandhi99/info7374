{
 "cells": [
  {
   "cell_type": "code",
   "execution_count": 15,
   "metadata": {},
   "outputs": [],
   "source": [
    "from __future__ import print_function\n",
    "import keras\n",
    "from keras.datasets import mnist\n",
    "from keras.models import Sequential\n",
    "from keras.layers import Dense, Dropout\n",
    "from keras.optimizers import RMSprop\n",
    "from keras.models import load_model\n",
    "import h5py\n",
    "from keras.callbacks import ModelCheckpoint, ProgbarLogger"
   ]
  },
  {
   "cell_type": "code",
   "execution_count": 16,
   "metadata": {
    "collapsed": true
   },
   "outputs": [],
   "source": [
    "batch_size =128\n",
    "num_classes =10\n",
    "epochs=10"
   ]
  },
  {
   "cell_type": "code",
   "execution_count": 17,
   "metadata": {
    "collapsed": true
   },
   "outputs": [],
   "source": [
    "(trainimages, trainlabels), (testimages,testlabels)=mnist.load_data()"
   ]
  },
  {
   "cell_type": "code",
   "execution_count": 18,
   "metadata": {},
   "outputs": [
    {
     "name": "stdout",
     "output_type": "stream",
     "text": [
      "3\n"
     ]
    }
   ],
   "source": [
    "print(trainimages.ndim)"
   ]
  },
  {
   "cell_type": "code",
   "execution_count": 19,
   "metadata": {
    "collapsed": true
   },
   "outputs": [],
   "source": [
    "trainimages=trainimages.reshape(60000,784)\n",
    "testimages=testimages.reshape(10000,784)"
   ]
  },
  {
   "cell_type": "code",
   "execution_count": 20,
   "metadata": {
    "collapsed": true
   },
   "outputs": [],
   "source": [
    "trainimages=trainimages.astype('float32')\n",
    "testimages=testimages.astype('float32')\n",
    "trainimages/=255\n",
    "testimages/=255"
   ]
  },
  {
   "cell_type": "code",
   "execution_count": 21,
   "metadata": {},
   "outputs": [
    {
     "name": "stdout",
     "output_type": "stream",
     "text": [
      "60000 train examples\n",
      "10000 test examples\n"
     ]
    }
   ],
   "source": [
    "print(trainimages.shape[0], 'train examples')\n",
    "print(testimages.shape[0], 'test examples')"
   ]
  },
  {
   "cell_type": "code",
   "execution_count": 22,
   "metadata": {
    "collapsed": true
   },
   "outputs": [],
   "source": [
    "trainlabels=keras.utils.to_categorical(trainlabels, num_classes)\n",
    "testlabels=keras.utils.to_categorical(testlabels,num_classes)"
   ]
  },
  {
   "cell_type": "code",
   "execution_count": 23,
   "metadata": {
    "collapsed": true
   },
   "outputs": [],
   "source": [
    "model= Sequential()\n",
    "model.add(Dense(512,activation='relu', input_shape=(784,)))\n",
    "model.add(Dropout(0.5))\n",
    "model.add(Dense(512,activation='relu'))\n",
    "model.add(Dropout(0.5))\n",
    "model.add(Dense(num_classes,activation='softmax'))"
   ]
  },
  {
   "cell_type": "code",
   "execution_count": 24,
   "metadata": {
    "collapsed": true
   },
   "outputs": [],
   "source": [
    "model.compile(loss=\"categorical_crossentropy\",optimizer=RMSprop(),metrics=['accuracy'])"
   ]
  },
  {
   "cell_type": "markdown",
   "metadata": {},
   "source": [
    "# checkpoint callback"
   ]
  },
  {
   "cell_type": "code",
   "execution_count": 25,
   "metadata": {},
   "outputs": [
    {
     "name": "stdout",
     "output_type": "stream",
     "text": [
      "\n",
      "Epoch 00001: val_acc improved from -inf to 0.96260, saving model to weights.best.hdf5\n",
      "\n",
      "Epoch 00002: val_acc improved from 0.96260 to 0.97190, saving model to weights.best.hdf5\n",
      "\n",
      "Epoch 00003: val_acc improved from 0.97190 to 0.97220, saving model to weights.best.hdf5\n",
      "\n",
      "Epoch 00004: val_acc improved from 0.97220 to 0.97740, saving model to weights.best.hdf5\n",
      "\n",
      "Epoch 00005: val_acc improved from 0.97740 to 0.97910, saving model to weights.best.hdf5\n",
      "\n",
      "Epoch 00006: val_acc did not improve from 0.97910\n",
      "\n",
      "Epoch 00007: val_acc improved from 0.97910 to 0.97970, saving model to weights.best.hdf5\n",
      "\n",
      "Epoch 00008: val_acc did not improve from 0.97970\n",
      "\n",
      "Epoch 00009: val_acc improved from 0.97970 to 0.98070, saving model to weights.best.hdf5\n",
      "\n",
      "Epoch 00010: val_acc did not improve from 0.98070\n"
     ]
    },
    {
     "data": {
      "text/plain": [
       "<keras.callbacks.History at 0x192d8b2ac50>"
      ]
     },
     "execution_count": 25,
     "metadata": {},
     "output_type": "execute_result"
    }
   ],
   "source": [
    "filepath=\"weights.best.hdf5\"\n",
    "checkpoint = ModelCheckpoint(filepath, monitor='val_acc', verbose=1, save_best_only=True, mode='max')\n",
    "#checkpoint = ModelCheckpoint(filepath, monitor='val_acc', verbose=1, save_best_only=True, mode='max')\n",
    "callbacks_list = [checkpoint]\n",
    "# Fit the model\n",
    "model.fit(trainimages, trainlabels,\n",
    "                    batch_size=batch_size,\n",
    "                    epochs=epochs,\n",
    "                    validation_data=(testimages, testlabels),callbacks=callbacks_list, verbose=0)"
   ]
  },
  {
   "cell_type": "markdown",
   "metadata": {},
   "source": [
    "# Progbar Logger"
   ]
  },
  {
   "cell_type": "code",
   "execution_count": 27,
   "metadata": {},
   "outputs": [
    {
     "name": "stdout",
     "output_type": "stream",
     "text": [
      "Train on 60000 samples, validate on 10000 samples\n",
      "Epoch 1/10\n",
      "Epoch 1/10\n",
      "60000/60000 [==============================] - 11s 178us/step - loss: 0.0718 - acc: 0.9837 - val_loss: 0.1041 - val_acc: 0.9824\n",
      "60000/60000 [==============================] - 11s 178us/step - loss: 0.0718 - acc: 0.9837 - val_loss: 0.1041 - val_acc: 0.9824\n",
      "Epoch 2/10\n",
      "Epoch 2/10\n",
      "60000/60000 [==============================] - 10s 169us/step - loss: 0.0675 - acc: 0.9846 - val_loss: 0.0958 - val_acc: 0.9833\n",
      "60000/60000 [==============================] - 10s 169us/step - loss: 0.0675 - acc: 0.9846 - val_loss: 0.0958 - val_acc: 0.9833\n",
      "Epoch 3/10\n",
      "Epoch 3/10\n",
      "60000/60000 [==============================] - 11s 176us/step - loss: 0.0724 - acc: 0.9841 - val_loss: 0.1106 - val_acc: 0.9816\n",
      "60000/60000 [==============================] - 11s 176us/step - loss: 0.0724 - acc: 0.9841 - val_loss: 0.1106 - val_acc: 0.9816\n",
      "Epoch 4/10\n",
      "Epoch 4/10\n",
      "60000/60000 [==============================] - 10s 169us/step - loss: 0.0701 - acc: 0.9843 - val_loss: 0.1162 - val_acc: 0.9829\n",
      "60000/60000 [==============================] - 10s 169us/step - loss: 0.0701 - acc: 0.9843 - val_loss: 0.1162 - val_acc: 0.9829\n",
      "Epoch 5/10\n",
      "Epoch 5/10\n",
      "60000/60000 [==============================] - 10s 163us/step - loss: 0.0680 - acc: 0.9845 - val_loss: 0.1011 - val_acc: 0.9823\n",
      "60000/60000 [==============================] - 10s 163us/step - loss: 0.0680 - acc: 0.9845 - val_loss: 0.1011 - val_acc: 0.9823\n",
      "Epoch 6/10\n",
      "Epoch 6/10\n",
      "60000/60000 [==============================] - 10s 168us/step - loss: 0.0710 - acc: 0.9843 - val_loss: 0.1088 - val_acc: 0.9823\n",
      "60000/60000 [==============================] - 10s 168us/step - loss: 0.0710 - acc: 0.9843 - val_loss: 0.1088 - val_acc: 0.9823\n",
      "Epoch 7/10\n",
      "Epoch 7/10\n",
      "60000/60000 [==============================] - 11s 184us/step - loss: 0.0703 - acc: 0.9847 - val_loss: 0.1025 - val_acc: 0.9833\n",
      "60000/60000 [==============================] - 11s 184us/step - loss: 0.0703 - acc: 0.9847 - val_loss: 0.1025 - val_acc: 0.9833\n",
      "Epoch 8/10\n",
      "Epoch 8/10\n",
      "60000/60000 [==============================] - 11s 183us/step - loss: 0.0694 - acc: 0.9851 - val_loss: 0.1124 - val_acc: 0.9818\n",
      "60000/60000 [==============================] - 11s 183us/step - loss: 0.0694 - acc: 0.9851 - val_loss: 0.1124 - val_acc: 0.9818\n",
      "Epoch 9/10\n",
      "Epoch 9/10\n",
      "60000/60000 [==============================] - 11s 187us/step - loss: 0.0660 - acc: 0.9860 - val_loss: 0.1031 - val_acc: 0.9836\n",
      "60000/60000 [==============================] - 11s 187us/step - loss: 0.0660 - acc: 0.9860 - val_loss: 0.1031 - val_acc: 0.9836\n",
      "Epoch 10/10\n",
      "Epoch 10/10\n",
      "60000/60000 [==============================] - 11s 183us/step - loss: 0.0658 - acc: 0.9855 - val_loss: 0.1046 - val_acc: 0.9836\n",
      "60000/60000 [==============================] - 11s 183us/step - loss: 0.0658 - acc: 0.9855 - val_loss: 0.1046 - val_acc: 0.9836\n"
     ]
    },
    {
     "data": {
      "text/plain": [
       "<keras.callbacks.History at 0x192e8078438>"
      ]
     },
     "execution_count": 27,
     "metadata": {},
     "output_type": "execute_result"
    }
   ],
   "source": [
    "progbar=ProgbarLogger(count_mode='samples', stateful_metrics=None)\n",
    "\n",
    "callbacks_list = [progbar]\n",
    "# Fit the model\n",
    "model.fit(trainimages, trainlabels,\n",
    "                    batch_size=batch_size,\n",
    "                    epochs=epochs,\n",
    "                    validation_data=(testimages, testlabels),callbacks=callbacks_list, verbose=1)"
   ]
  },
  {
   "cell_type": "code",
   "execution_count": null,
   "metadata": {
    "collapsed": true
   },
   "outputs": [],
   "source": []
  }
 ],
 "metadata": {
  "kernelspec": {
   "display_name": "Python 3",
   "language": "python",
   "name": "python3"
  },
  "language_info": {
   "codemirror_mode": {
    "name": "ipython",
    "version": 3
   },
   "file_extension": ".py",
   "mimetype": "text/x-python",
   "name": "python",
   "nbconvert_exporter": "python",
   "pygments_lexer": "ipython3",
   "version": "3.6.3"
  }
 },
 "nbformat": 4,
 "nbformat_minor": 2
}
