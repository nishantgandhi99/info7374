{
 "cells": [
  {
   "cell_type": "code",
   "execution_count": 46,
   "metadata": {},
   "outputs": [],
   "source": [
    "import keras\n",
    "from keras.models import Sequential\n",
    "from keras.layers import Dense, Activation, Dropout, Flatten, Conv2D, MaxPooling2D, Input\n",
    "from keras.layers.normalization import BatchNormalization\n",
    "import numpy as np\n",
    "import pandas as pd\n",
    "from keras.utils import np_utils\n",
    "import matplotlib.pyplot as plt\n",
    "%matplotlib inline\n",
    "import pydot\n",
    "\n",
    "import pickle\n",
    "import os\n",
    "from sklearn.utils import shuffle\n",
    "from sklearn.preprocessing import OneHotEncoder"
   ]
  },
  {
   "cell_type": "code",
   "execution_count": 47,
   "metadata": {},
   "outputs": [],
   "source": [
    "train_images = pickle.load( open( \"../imagenet-200/train_images.pkl\", \"rb\" ) )\n",
    "train_labels = pickle.load( open( \"../imagenet-200/train_labels.pkl\", \"rb\" ) )\n",
    "val_images = pickle.load( open( \"../imagenet-200/val_images.pkl\", \"rb\" ) )\n",
    "val_labels = pickle.load( open( \"../imagenet-200/val_labels.pkl\", \"rb\" ) )"
   ]
  },
  {
   "cell_type": "code",
   "execution_count": 48,
   "metadata": {},
   "outputs": [
    {
     "data": {
      "text/html": [
       "<div>\n",
       "<style scoped>\n",
       "    .dataframe tbody tr th:only-of-type {\n",
       "        vertical-align: middle;\n",
       "    }\n",
       "\n",
       "    .dataframe tbody tr th {\n",
       "        vertical-align: top;\n",
       "    }\n",
       "\n",
       "    .dataframe thead th {\n",
       "        text-align: right;\n",
       "    }\n",
       "</style>\n",
       "<table border=\"1\" class=\"dataframe\">\n",
       "  <thead>\n",
       "    <tr style=\"text-align: right;\">\n",
       "      <th></th>\n",
       "      <th>label</th>\n",
       "      <th>id</th>\n",
       "      <th>description</th>\n",
       "    </tr>\n",
       "  </thead>\n",
       "  <tbody>\n",
       "    <tr>\n",
       "      <th>0</th>\n",
       "      <td>n02119789</td>\n",
       "      <td>1</td>\n",
       "      <td>kit_fox</td>\n",
       "    </tr>\n",
       "    <tr>\n",
       "      <th>1</th>\n",
       "      <td>n02100735</td>\n",
       "      <td>2</td>\n",
       "      <td>English_setter</td>\n",
       "    </tr>\n",
       "    <tr>\n",
       "      <th>2</th>\n",
       "      <td>n02110185</td>\n",
       "      <td>3</td>\n",
       "      <td>Siberian_husky</td>\n",
       "    </tr>\n",
       "    <tr>\n",
       "      <th>3</th>\n",
       "      <td>n02096294</td>\n",
       "      <td>4</td>\n",
       "      <td>Australian_terrier</td>\n",
       "    </tr>\n",
       "    <tr>\n",
       "      <th>4</th>\n",
       "      <td>n02102040</td>\n",
       "      <td>5</td>\n",
       "      <td>English_springer</td>\n",
       "    </tr>\n",
       "  </tbody>\n",
       "</table>\n",
       "</div>"
      ],
      "text/plain": [
       "       label  id         description\n",
       "0  n02119789   1             kit_fox\n",
       "1  n02100735   2      English_setter\n",
       "2  n02110185   3      Siberian_husky\n",
       "3  n02096294   4  Australian_terrier\n",
       "4  n02102040   5    English_springer"
      ]
     },
     "execution_count": 48,
     "metadata": {},
     "output_type": "execute_result"
    }
   ],
   "source": [
    "text_labels = pd.read_csv('../imagenet-200/map_clsloc.txt', sep='\\s', header=None, engine='python')\n",
    "text_labels.columns=['label', 'id', 'description']\n",
    "text_labels.head()"
   ]
  },
  {
   "cell_type": "code",
   "execution_count": 49,
   "metadata": {
    "scrolled": true
   },
   "outputs": [
    {
     "data": {
      "text/plain": [
       "label          1000\n",
       "id             1000\n",
       "description    1000\n",
       "dtype: int64"
      ]
     },
     "execution_count": 49,
     "metadata": {},
     "output_type": "execute_result"
    }
   ],
   "source": [
    "text_labels.count()"
   ]
  },
  {
   "cell_type": "code",
   "execution_count": 50,
   "metadata": {},
   "outputs": [
    {
     "data": {
      "text/plain": [
       "(100000, 32, 32, 3)"
      ]
     },
     "execution_count": 50,
     "metadata": {},
     "output_type": "execute_result"
    }
   ],
   "source": [
    "train_images.shape"
   ]
  },
  {
   "cell_type": "code",
   "execution_count": 51,
   "metadata": {},
   "outputs": [
    {
     "data": {
      "text/plain": [
       "numpy.uint8"
      ]
     },
     "execution_count": 51,
     "metadata": {},
     "output_type": "execute_result"
    }
   ],
   "source": [
    "type(train_images[0][0][0][0])"
   ]
  },
  {
   "cell_type": "code",
   "execution_count": 52,
   "metadata": {},
   "outputs": [
    {
     "data": {
      "text/plain": [
       "167"
      ]
     },
     "execution_count": 52,
     "metadata": {},
     "output_type": "execute_result"
    }
   ],
   "source": [
    "# [image_index][R][G][B]\n",
    "train_images[1200][0][0][2]"
   ]
  },
  {
   "cell_type": "code",
   "execution_count": 53,
   "metadata": {},
   "outputs": [],
   "source": [
    "train_images = train_images.astype('float32')\n",
    "val_images = val_images.astype('float32')\n",
    "\n",
    "# beacuse pixel values are between 0 to 255\n",
    "train_images /= 255\n",
    "val_images /= 255"
   ]
  },
  {
   "cell_type": "code",
   "execution_count": 81,
   "metadata": {},
   "outputs": [],
   "source": [
    "enc = OneHotEncoder(categories='auto')\n",
    "y_train = enc.fit_transform(train_labels.reshape(-1, 1)).toarray()\n",
    "y_val = enc.transform(val_labels.reshape(-1, 1)).toarray()"
   ]
  },
  {
   "cell_type": "code",
   "execution_count": 82,
   "metadata": {},
   "outputs": [
    {
     "data": {
      "text/plain": [
       "[array(['n01443537', 'n01629819', 'n01641577', 'n01644900', 'n01698640',\n",
       "        'n01742172', 'n01768244', 'n01770393', 'n01774384', 'n01774750',\n",
       "        'n01784675', 'n01855672', 'n01882714', 'n01910747', 'n01917289',\n",
       "        'n01944390', 'n01945685', 'n01950731', 'n01983481', 'n01984695',\n",
       "        'n02002724', 'n02056570', 'n02058221', 'n02074367', 'n02085620',\n",
       "        'n02094433', 'n02099601', 'n02099712', 'n02106662', 'n02113799',\n",
       "        'n02123045', 'n02123394', 'n02124075', 'n02125311', 'n02129165',\n",
       "        'n02132136', 'n02165456', 'n02190166', 'n02206856', 'n02226429',\n",
       "        'n02231487', 'n02233338', 'n02236044', 'n02268443', 'n02279972',\n",
       "        'n02281406', 'n02321529', 'n02364673', 'n02395406', 'n02403003',\n",
       "        'n02410509', 'n02415577', 'n02423022', 'n02437312', 'n02480495',\n",
       "        'n02481823', 'n02486410', 'n02504458', 'n02509815', 'n02666196',\n",
       "        'n02669723', 'n02699494', 'n02730930', 'n02769748', 'n02788148',\n",
       "        'n02791270', 'n02793495', 'n02795169', 'n02802426', 'n02808440',\n",
       "        'n02814533', 'n02814860', 'n02815834', 'n02823428', 'n02837789',\n",
       "        'n02841315', 'n02843684', 'n02883205', 'n02892201', 'n02906734',\n",
       "        'n02909870', 'n02917067', 'n02927161', 'n02948072', 'n02950826',\n",
       "        'n02963159', 'n02977058', 'n02988304', 'n02999410', 'n03014705',\n",
       "        'n03026506', 'n03042490', 'n03085013', 'n03089624', 'n03100240',\n",
       "        'n03126707', 'n03160309', 'n03179701', 'n03201208', 'n03250847',\n",
       "        'n03255030', 'n03355925', 'n03388043', 'n03393912', 'n03400231',\n",
       "        'n03404251', 'n03424325', 'n03444034', 'n03447447', 'n03544143',\n",
       "        'n03584254', 'n03599486', 'n03617480', 'n03637318', 'n03649909',\n",
       "        'n03662601', 'n03670208', 'n03706229', 'n03733131', 'n03763968',\n",
       "        'n03770439', 'n03796401', 'n03804744', 'n03814639', 'n03837869',\n",
       "        'n03838899', 'n03854065', 'n03891332', 'n03902125', 'n03930313',\n",
       "        'n03937543', 'n03970156', 'n03976657', 'n03977966', 'n03980874',\n",
       "        'n03983396', 'n03992509', 'n04008634', 'n04023962', 'n04067472',\n",
       "        'n04070727', 'n04074963', 'n04099969', 'n04118538', 'n04133789',\n",
       "        'n04146614', 'n04149813', 'n04179913', 'n04251144', 'n04254777',\n",
       "        'n04259630', 'n04265275', 'n04275548', 'n04285008', 'n04311004',\n",
       "        'n04328186', 'n04356056', 'n04366367', 'n04371430', 'n04376876',\n",
       "        'n04398044', 'n04399382', 'n04417672', 'n04456115', 'n04465501',\n",
       "        'n04486054', 'n04487081', 'n04501370', 'n04507155', 'n04532106',\n",
       "        'n04532670', 'n04540053', 'n04560804', 'n04562935', 'n04596742',\n",
       "        'n04597913', 'n06596364', 'n07579787', 'n07583066', 'n07614500',\n",
       "        'n07615774', 'n07695742', 'n07711569', 'n07715103', 'n07720875',\n",
       "        'n07734744', 'n07747607', 'n07749582', 'n07753592', 'n07768694',\n",
       "        'n07871810', 'n07873807', 'n07875152', 'n07920052', 'n09193705',\n",
       "        'n09246464', 'n09256479', 'n09332890', 'n09428293', 'n12267677'],\n",
       "       dtype='<U9')]"
      ]
     },
     "execution_count": 82,
     "metadata": {},
     "output_type": "execute_result"
    }
   ],
   "source": [
    "enc.categories_"
   ]
  },
  {
   "cell_type": "code",
   "execution_count": 83,
   "metadata": {},
   "outputs": [],
   "source": [
    "train_images, train_labels, y_train = shuffle(train_images, train_labels, y_train, random_state=41)"
   ]
  },
  {
   "cell_type": "code",
   "execution_count": 84,
   "metadata": {},
   "outputs": [
    {
     "data": {
      "text/plain": [
       "[(100000, 32, 32, 3), (100000,), (100000, 200)]"
      ]
     },
     "execution_count": 84,
     "metadata": {},
     "output_type": "execute_result"
    }
   ],
   "source": [
    "[train_images.shape, train_labels.shape, y_train.shape]"
   ]
  },
  {
   "cell_type": "code",
   "execution_count": 85,
   "metadata": {},
   "outputs": [
    {
     "data": {
      "image/png": "[encoded data removed]",
      "text/plain": [
       "<Figure size 432x288 with 1 Axes>"
      ]
     },
     "metadata": {
      "needs_background": "light"
     },
     "output_type": "display_data"
    },
    {
     "name": "stdout",
     "output_type": "stream",
     "text": [
      "         label   id description\n",
      "652  n01944390  653       snail\n"
     ]
    }
   ],
   "source": [
    "plotData = train_images[0]\n",
    "plt.imshow(plotData)\n",
    "plt.show()\n",
    "print(text_labels.loc[text_labels['label']==train_labels[0]])"
   ]
  },
  {
   "cell_type": "code",
   "execution_count": 86,
   "metadata": {},
   "outputs": [
    {
     "name": "stdout",
     "output_type": "stream",
     "text": [
      "_________________________________________________________________\n",
      "Layer (type)                 Output Shape              Param #   \n",
      "=================================================================\n",
      "conv2d_16 (Conv2D)           (None, 8, 8, 96)          34944     \n",
      "_________________________________________________________________\n",
      "activation_25 (Activation)   (None, 8, 8, 96)          0         \n",
      "_________________________________________________________________\n",
      "max_pooling2d_10 (MaxPooling (None, 4, 4, 96)          0         \n",
      "_________________________________________________________________\n",
      "conv2d_17 (Conv2D)           (None, 4, 4, 256)         2973952   \n",
      "_________________________________________________________________\n",
      "activation_26 (Activation)   (None, 4, 4, 256)         0         \n",
      "_________________________________________________________________\n",
      "max_pooling2d_11 (MaxPooling (None, 2, 2, 256)         0         \n",
      "_________________________________________________________________\n",
      "conv2d_18 (Conv2D)           (None, 2, 2, 384)         885120    \n",
      "_________________________________________________________________\n",
      "activation_27 (Activation)   (None, 2, 2, 384)         0         \n",
      "_________________________________________________________________\n",
      "conv2d_19 (Conv2D)           (None, 2, 2, 384)         1327488   \n",
      "_________________________________________________________________\n",
      "activation_28 (Activation)   (None, 2, 2, 384)         0         \n",
      "_________________________________________________________________\n",
      "conv2d_20 (Conv2D)           (None, 2, 2, 256)         884992    \n",
      "_________________________________________________________________\n",
      "activation_29 (Activation)   (None, 2, 2, 256)         0         \n",
      "_________________________________________________________________\n",
      "max_pooling2d_12 (MaxPooling (None, 1, 1, 256)         0         \n",
      "_________________________________________________________________\n",
      "flatten_4 (Flatten)          (None, 256)               0         \n",
      "_________________________________________________________________\n",
      "dense_13 (Dense)             (None, 4096)              1052672   \n",
      "_________________________________________________________________\n",
      "activation_30 (Activation)   (None, 4096)              0         \n",
      "_________________________________________________________________\n",
      "dropout_10 (Dropout)         (None, 4096)              0         \n",
      "_________________________________________________________________\n",
      "dense_14 (Dense)             (None, 4096)              16781312  \n",
      "_________________________________________________________________\n",
      "activation_31 (Activation)   (None, 4096)              0         \n",
      "_________________________________________________________________\n",
      "dropout_11 (Dropout)         (None, 4096)              0         \n",
      "_________________________________________________________________\n",
      "dense_15 (Dense)             (None, 1000)              4097000   \n",
      "_________________________________________________________________\n",
      "activation_32 (Activation)   (None, 1000)              0         \n",
      "_________________________________________________________________\n",
      "dropout_12 (Dropout)         (None, 1000)              0         \n",
      "_________________________________________________________________\n",
      "dense_16 (Dense)             (None, 200)               200200    \n",
      "=================================================================\n",
      "Total params: 28,237,680\n",
      "Trainable params: 28,237,680\n",
      "Non-trainable params: 0\n",
      "_________________________________________________________________\n"
     ]
    }
   ],
   "source": [
    "model = Sequential()\n",
    "\n",
    "\n",
    "model.add(Conv2D(filters=96, input_shape=(32,32,3), kernel_size=(11,11), strides=(4,4), padding='same'))\n",
    "model.add(Activation('relu'))\n",
    "model.add(MaxPooling2D(pool_size=(2,2), strides=(2,2), padding='same'))\n",
    "\n",
    "model.add(Conv2D(filters=256, kernel_size=(11,11), strides=(1,1), padding='same'))\n",
    "model.add(Activation('relu'))\n",
    "model.add(MaxPooling2D(pool_size=(2,2), strides=(2,2), padding='same'))\n",
    "\n",
    "model.add(Conv2D(filters=384, kernel_size=(3,3), strides=(1,1), padding='same'))\n",
    "model.add(Activation('relu'))\n",
    "\n",
    "model.add(Conv2D(filters=384, kernel_size=(3,3), strides=(1,1), padding='same'))\n",
    "model.add(Activation('relu'))\n",
    "\n",
    "model.add(Conv2D(filters=256, kernel_size=(3,3), strides=(1,1), padding='same'))\n",
    "model.add(Activation('relu'))\n",
    "model.add(MaxPooling2D(pool_size=(2,2), strides=(2,2), padding='same'))\n",
    "\n",
    "model.add(Flatten())\n",
    "model.add(Dense(4096, input_shape=(32*32*3,)))\n",
    "model.add(Activation('relu'))\n",
    "model.add(Dropout(0.4))\n",
    "model.add(Dense(4096))\n",
    "model.add(Activation('relu'))\n",
    "model.add(Dropout(0.4))\n",
    "model.add(Dense(1000))\n",
    "model.add(Activation('relu'))\n",
    "model.add(Dropout(0.4))\n",
    "#model.add(BatchNormalization())\n",
    "model.add(Dense(200, activation='softmax'))\n",
    "# model.add(Activation('softmax'))\n",
    "\n",
    "model.summary()\n",
    "\n",
    "# Compile the model\n",
    "model.compile(loss=keras.losses.categorical_crossentropy, optimizer='sgd', metrics=[\"accuracy\"])\n"
   ]
  },
  {
   "cell_type": "code",
   "execution_count": 87,
   "metadata": {},
   "outputs": [
    {
     "data": {
      "text/plain": [
       "array([0., 0., 0., 0., 0., 0., 0., 0., 0., 0., 0., 0., 0., 0., 0., 1., 0.,\n",
       "       0., 0., 0., 0., 0., 0., 0., 0., 0., 0., 0., 0., 0., 0., 0., 0., 0.,\n",
       "       0., 0., 0., 0., 0., 0., 0., 0., 0., 0., 0., 0., 0., 0., 0., 0., 0.,\n",
       "       0., 0., 0., 0., 0., 0., 0., 0., 0., 0., 0., 0., 0., 0., 0., 0., 0.,\n",
       "       0., 0., 0., 0., 0., 0., 0., 0., 0., 0., 0., 0., 0., 0., 0., 0., 0.,\n",
       "       0., 0., 0., 0., 0., 0., 0., 0., 0., 0., 0., 0., 0., 0., 0., 0., 0.,\n",
       "       0., 0., 0., 0., 0., 0., 0., 0., 0., 0., 0., 0., 0., 0., 0., 0., 0.,\n",
       "       0., 0., 0., 0., 0., 0., 0., 0., 0., 0., 0., 0., 0., 0., 0., 0., 0.,\n",
       "       0., 0., 0., 0., 0., 0., 0., 0., 0., 0., 0., 0., 0., 0., 0., 0., 0.,\n",
       "       0., 0., 0., 0., 0., 0., 0., 0., 0., 0., 0., 0., 0., 0., 0., 0., 0.,\n",
       "       0., 0., 0., 0., 0., 0., 0., 0., 0., 0., 0., 0., 0., 0., 0., 0., 0.,\n",
       "       0., 0., 0., 0., 0., 0., 0., 0., 0., 0., 0., 0., 0.])"
      ]
     },
     "execution_count": 87,
     "metadata": {},
     "output_type": "execute_result"
    }
   ],
   "source": [
    "y_train[0]"
   ]
  },
  {
   "cell_type": "code",
   "execution_count": null,
   "metadata": {},
   "outputs": [
    {
     "name": "stdout",
     "output_type": "stream",
     "text": [
      "Train on 100000 samples, validate on 10000 samples\n",
      "Epoch 1/50\n",
      "100000/100000 [==============================] - 5598s 56ms/step - loss: 5.2986 - acc: 0.0047 - val_loss: 5.2983 - val_acc: 0.0050\n",
      "Epoch 2/50\n",
      "100000/100000 [==============================] - 1837s 18ms/step - loss: 5.2985 - acc: 0.0048 - val_loss: 5.2982 - val_acc: 0.0058\n",
      "Epoch 3/50\n",
      "100000/100000 [==============================] - 1633s 16ms/step - loss: 5.2985 - acc: 0.0046 - val_loss: 5.2981 - val_acc: 0.0078\n",
      "Epoch 4/50\n",
      "100000/100000 [==============================] - 1782s 18ms/step - loss: 5.2982 - acc: 0.0051 - val_loss: 5.2977 - val_acc: 0.0076\n",
      "Epoch 5/50\n",
      "100000/100000 [==============================] - 1690s 17ms/step - loss: 5.2975 - acc: 0.0065 - val_loss: 5.2957 - val_acc: 0.0086\n",
      "Epoch 6/50\n",
      "100000/100000 [==============================] - 1641s 16ms/step - loss: 5.2888 - acc: 0.0076 - val_loss: 5.2466 - val_acc: 0.0077\n",
      "Epoch 7/50\n",
      "100000/100000 [==============================] - 1859s 19ms/step - loss: 5.2088 - acc: 0.0096 - val_loss: 5.1605 - val_acc: 0.0112\n",
      "Epoch 8/50\n",
      "100000/100000 [==============================] - 3864s 39ms/step - loss: 5.1444 - acc: 0.0109 - val_loss: 5.0872 - val_acc: 0.0152\n",
      "Epoch 9/50\n",
      "100000/100000 [==============================] - 1707s 17ms/step - loss: 5.1146 - acc: 0.0135 - val_loss: 5.1179 - val_acc: 0.0150\n",
      "Epoch 10/50\n",
      "100000/100000 [==============================] - 1698s 17ms/step - loss: 5.1745 - acc: 0.0117 - val_loss: 5.3069 - val_acc: 0.0050\n",
      "Epoch 11/50\n",
      "100000/100000 [==============================] - 1849s 18ms/step - loss: 5.3025 - acc: 0.0046 - val_loss: 5.2997 - val_acc: 0.0050\n",
      "Epoch 12/50\n",
      "100000/100000 [==============================] - 1810s 18ms/step - loss: 5.2997 - acc: 0.0047 - val_loss: 5.2989 - val_acc: 0.0050\n",
      "Epoch 13/50\n",
      "100000/100000 [==============================] - 1985s 20ms/step - loss: 5.2991 - acc: 0.0046 - val_loss: 5.2986 - val_acc: 0.0050\n",
      "Epoch 14/50\n",
      "100000/100000 [==============================] - 1824s 18ms/step - loss: 5.2989 - acc: 0.0049 - val_loss: 5.2985 - val_acc: 0.0050\n",
      "Epoch 15/50\n",
      "100000/100000 [==============================] - 1673s 17ms/step - loss: 5.2988 - acc: 0.0047 - val_loss: 5.2984 - val_acc: 0.0050\n",
      "Epoch 16/50\n",
      "100000/100000 [==============================] - 2037s 20ms/step - loss: 5.2987 - acc: 0.0047 - val_loss: 5.2984 - val_acc: 0.0050\n",
      "Epoch 17/50\n",
      " 57792/100000 [================>.............] - ETA: 14:17 - loss: 5.2987 - acc: 0.0047"
     ]
    }
   ],
   "source": [
    "batch_size = 32\n",
    "epochs = 50\n",
    "history_start = model.fit(train_images, \n",
    "                          y_train,\n",
    "                    batch_size=batch_size,\n",
    "                    epochs=epochs,\n",
    "                    verbose=1,\n",
    "                    validation_data=(val_images, \n",
    "                                     y_val))\n",
    "\n",
    "model.save('AlexNet_image200.h5')"
   ]
  },
  {
   "cell_type": "code",
   "execution_count": null,
   "metadata": {},
   "outputs": [],
   "source": []
  },
  {
   "cell_type": "code",
   "execution_count": null,
   "metadata": {},
   "outputs": [],
   "source": []
  }
 ],
 "metadata": {
  "kernelspec": {
   "display_name": "Python 3",
   "language": "python",
   "name": "python3"
  },
  "language_info": {
   "codemirror_mode": {
    "name": "ipython",
    "version": 3
   },
   "file_extension": ".py",
   "mimetype": "text/x-python",
   "name": "python",
   "nbconvert_exporter": "python",
   "pygments_lexer": "ipython3",
   "version": "3.6.8"
  }
 },
 "nbformat": 4,
 "nbformat_minor": 2
}
